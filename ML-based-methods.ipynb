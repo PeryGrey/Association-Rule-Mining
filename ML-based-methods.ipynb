{
 "cells": [
  {
   "cell_type": "markdown",
   "id": "f3c1a4e7",
   "metadata": {
    "_cell_guid": "454bf0c7-4e17-6d71-0b4d-e67cf1bff734",
    "execution": {
     "iopub.execute_input": "2021-09-12T05:38:09.874942Z",
     "iopub.status.busy": "2021-09-12T05:38:09.874629Z",
     "iopub.status.idle": "2021-09-12T05:38:09.880904Z",
     "shell.execute_reply": "2021-09-12T05:38:09.880013Z",
     "shell.execute_reply.started": "2021-09-12T05:38:09.874913Z"
    },
    "papermill": {
     "duration": 0.050476,
     "end_time": "2021-10-19T05:50:36.198103",
     "exception": false,
     "start_time": "2021-10-19T05:50:36.147627",
     "status": "completed"
    },
    "tags": []
   },
   "source": [
    "# CZ4032 Data Analytics & Mining\n",
    "## Assignment - 1: Part 4\n",
    "### Dataset: breast-w, iris, glass, heart, tic-tac-toe, acute-inflammations (additional), balance-scale (additional)\n",
    "\n",
    "### Team - 15\n",
    "* Mundhra Divyesh\n",
    "* Gupta Jay\n",
    "* Kanodia Ritwik\n",
    "* Dandapath Soham\n",
    "\n",
    "> **Warning:** This notebook was created on the Kaggle platform where it fetches data from the Kaggle directories. It will not work by default on the Jupyter Notebook Platform."
   ]
  },
  {
   "cell_type": "code",
   "execution_count": 1,
   "id": "ab76654c",
   "metadata": {
    "_cell_guid": "e3200e6e-62d4-1d74-496b-c5197a574dcb",
    "execution": {
     "iopub.execute_input": "2021-10-19T05:50:36.308960Z",
     "iopub.status.busy": "2021-10-19T05:50:36.308314Z",
     "iopub.status.idle": "2021-10-19T05:50:37.546642Z",
     "shell.execute_reply": "2021-10-19T05:50:37.545925Z",
     "shell.execute_reply.started": "2021-10-08T05:20:16.604576Z"
    },
    "papermill": {
     "duration": 1.298115,
     "end_time": "2021-10-19T05:50:37.546806",
     "exception": false,
     "start_time": "2021-10-19T05:50:36.248691",
     "status": "completed"
    },
    "tags": []
   },
   "outputs": [],
   "source": [
    "import numpy as np\n",
    "import pandas as pd \n",
    "import matplotlib.pyplot as plt\n",
    "import seaborn as sns\n",
    "%matplotlib inline\n",
    "from sklearn.model_selection import cross_val_score, KFold\n",
    "from sklearn.ensemble import RandomForestClassifier\n",
    "from sklearn.tree import DecisionTreeClassifier\n",
    "from sklearn import svm \n",
    "from sklearn import metrics"
   ]
  },
  {
   "cell_type": "markdown",
   "id": "6e8b5fa8",
   "metadata": {
    "papermill": {
     "duration": 0.047008,
     "end_time": "2021-10-19T05:50:37.641409",
     "exception": false,
     "start_time": "2021-10-19T05:50:37.594401",
     "status": "completed"
    },
    "tags": []
   },
   "source": [
    "## Data Preparation (breast-w)\n",
    "> https://archive.ics.uci.edu/ml/datasets/breast+cancer+wisconsin+(original)"
   ]
  },
  {
   "cell_type": "code",
   "execution_count": 2,
   "id": "378eb699",
   "metadata": {
    "_cell_guid": "7036d299-0057-db0a-d892-fe212c0d612c",
    "execution": {
     "iopub.execute_input": "2021-10-19T05:50:37.745340Z",
     "iopub.status.busy": "2021-10-19T05:50:37.744615Z",
     "iopub.status.idle": "2021-10-19T05:50:37.787131Z",
     "shell.execute_reply": "2021-10-19T05:50:37.787659Z",
     "shell.execute_reply.started": "2021-10-08T05:20:17.704386Z"
    },
    "papermill": {
     "duration": 0.09923,
     "end_time": "2021-10-19T05:50:37.787853",
     "exception": false,
     "start_time": "2021-10-19T05:50:37.688623",
     "status": "completed"
    },
    "tags": []
   },
   "outputs": [
    {
     "data": {
      "text/html": [
       "<div>\n",
       "<style scoped>\n",
       "    .dataframe tbody tr th:only-of-type {\n",
       "        vertical-align: middle;\n",
       "    }\n",
       "\n",
       "    .dataframe tbody tr th {\n",
       "        vertical-align: top;\n",
       "    }\n",
       "\n",
       "    .dataframe thead th {\n",
       "        text-align: right;\n",
       "    }\n",
       "</style>\n",
       "<table border=\"1\" class=\"dataframe\">\n",
       "  <thead>\n",
       "    <tr style=\"text-align: right;\">\n",
       "      <th></th>\n",
       "      <th>id</th>\n",
       "      <th>clump_thickness</th>\n",
       "      <th>size_uniformity</th>\n",
       "      <th>shape_uniformity</th>\n",
       "      <th>marginal_adhesion</th>\n",
       "      <th>epithelial_size</th>\n",
       "      <th>bare_nucleoli</th>\n",
       "      <th>bland_chromatin</th>\n",
       "      <th>normal_nucleoli</th>\n",
       "      <th>mitoses</th>\n",
       "      <th>diagnosis</th>\n",
       "    </tr>\n",
       "  </thead>\n",
       "  <tbody>\n",
       "    <tr>\n",
       "      <th>0</th>\n",
       "      <td>1000025</td>\n",
       "      <td>5</td>\n",
       "      <td>1</td>\n",
       "      <td>1</td>\n",
       "      <td>1</td>\n",
       "      <td>2</td>\n",
       "      <td>1</td>\n",
       "      <td>3</td>\n",
       "      <td>1</td>\n",
       "      <td>1</td>\n",
       "      <td>2</td>\n",
       "    </tr>\n",
       "    <tr>\n",
       "      <th>1</th>\n",
       "      <td>1002945</td>\n",
       "      <td>5</td>\n",
       "      <td>4</td>\n",
       "      <td>4</td>\n",
       "      <td>5</td>\n",
       "      <td>7</td>\n",
       "      <td>10</td>\n",
       "      <td>3</td>\n",
       "      <td>2</td>\n",
       "      <td>1</td>\n",
       "      <td>2</td>\n",
       "    </tr>\n",
       "    <tr>\n",
       "      <th>2</th>\n",
       "      <td>1015425</td>\n",
       "      <td>3</td>\n",
       "      <td>1</td>\n",
       "      <td>1</td>\n",
       "      <td>1</td>\n",
       "      <td>2</td>\n",
       "      <td>2</td>\n",
       "      <td>3</td>\n",
       "      <td>1</td>\n",
       "      <td>1</td>\n",
       "      <td>2</td>\n",
       "    </tr>\n",
       "    <tr>\n",
       "      <th>3</th>\n",
       "      <td>1016277</td>\n",
       "      <td>6</td>\n",
       "      <td>8</td>\n",
       "      <td>8</td>\n",
       "      <td>1</td>\n",
       "      <td>3</td>\n",
       "      <td>4</td>\n",
       "      <td>3</td>\n",
       "      <td>7</td>\n",
       "      <td>1</td>\n",
       "      <td>2</td>\n",
       "    </tr>\n",
       "    <tr>\n",
       "      <th>4</th>\n",
       "      <td>1017023</td>\n",
       "      <td>4</td>\n",
       "      <td>1</td>\n",
       "      <td>1</td>\n",
       "      <td>3</td>\n",
       "      <td>2</td>\n",
       "      <td>1</td>\n",
       "      <td>3</td>\n",
       "      <td>1</td>\n",
       "      <td>1</td>\n",
       "      <td>2</td>\n",
       "    </tr>\n",
       "  </tbody>\n",
       "</table>\n",
       "</div>"
      ],
      "text/plain": [
       "        id  clump_thickness  size_uniformity  shape_uniformity  \\\n",
       "0  1000025                5                1                 1   \n",
       "1  1002945                5                4                 4   \n",
       "2  1015425                3                1                 1   \n",
       "3  1016277                6                8                 8   \n",
       "4  1017023                4                1                 1   \n",
       "\n",
       "   marginal_adhesion  epithelial_size bare_nucleoli  bland_chromatin  \\\n",
       "0                  1                2             1                3   \n",
       "1                  5                7            10                3   \n",
       "2                  1                2             2                3   \n",
       "3                  1                3             4                3   \n",
       "4                  3                2             1                3   \n",
       "\n",
       "   normal_nucleoli  mitoses  diagnosis  \n",
       "0                1        1          2  \n",
       "1                2        1          2  \n",
       "2                1        1          2  \n",
       "3                7        1          2  \n",
       "4                1        1          2  "
      ]
     },
     "execution_count": 2,
     "metadata": {},
     "output_type": "execute_result"
    }
   ],
   "source": [
    "data = pd.read_csv(\"../input/breastcancerwisconsinoriginal/breast-cancer-wisconsin.csv\", header = 0)\n",
    "data.rename(columns={'class': 'diagnosis'}, inplace=True)\n",
    "data = data[data[\"bare_nucleoli\"].str.contains(\"\\?\") == False]\n",
    "data.head()"
   ]
  },
  {
   "cell_type": "code",
   "execution_count": 3,
   "id": "8f9f442b",
   "metadata": {
    "_cell_guid": "1109ea03-5b73-25fa-72ca-6695de4b0c5b",
    "execution": {
     "iopub.execute_input": "2021-10-19T05:50:37.898935Z",
     "iopub.status.busy": "2021-10-19T05:50:37.897590Z",
     "iopub.status.idle": "2021-10-19T05:50:37.924691Z",
     "shell.execute_reply": "2021-10-19T05:50:37.925335Z",
     "shell.execute_reply.started": "2021-10-08T05:20:17.745746Z"
    },
    "papermill": {
     "duration": 0.085033,
     "end_time": "2021-10-19T05:50:37.925518",
     "exception": false,
     "start_time": "2021-10-19T05:50:37.840485",
     "status": "completed"
    },
    "tags": []
   },
   "outputs": [
    {
     "name": "stdout",
     "output_type": "stream",
     "text": [
      "<class 'pandas.core.frame.DataFrame'>\n",
      "Int64Index: 683 entries, 0 to 698\n",
      "Data columns (total 11 columns):\n",
      " #   Column             Non-Null Count  Dtype \n",
      "---  ------             --------------  ----- \n",
      " 0   id                 683 non-null    int64 \n",
      " 1   clump_thickness    683 non-null    int64 \n",
      " 2   size_uniformity    683 non-null    int64 \n",
      " 3   shape_uniformity   683 non-null    int64 \n",
      " 4   marginal_adhesion  683 non-null    int64 \n",
      " 5   epithelial_size    683 non-null    int64 \n",
      " 6   bare_nucleoli      683 non-null    object\n",
      " 7   bland_chromatin    683 non-null    int64 \n",
      " 8   normal_nucleoli    683 non-null    int64 \n",
      " 9   mitoses            683 non-null    int64 \n",
      " 10  diagnosis          683 non-null    int64 \n",
      "dtypes: int64(10), object(1)\n",
      "memory usage: 64.0+ KB\n"
     ]
    }
   ],
   "source": [
    "data.info()"
   ]
  },
  {
   "cell_type": "code",
   "execution_count": 4,
   "id": "c901cd56",
   "metadata": {
    "_cell_guid": "9ec57be7-c20b-5895-2f20-0f32651b3f79",
    "execution": {
     "iopub.execute_input": "2021-10-19T05:50:38.050748Z",
     "iopub.status.busy": "2021-10-19T05:50:38.049761Z",
     "iopub.status.idle": "2021-10-19T05:50:38.056367Z",
     "shell.execute_reply": "2021-10-19T05:50:38.056940Z",
     "shell.execute_reply.started": "2021-10-08T05:20:17.765059Z"
    },
    "papermill": {
     "duration": 0.070571,
     "end_time": "2021-10-19T05:50:38.057142",
     "exception": false,
     "start_time": "2021-10-19T05:50:37.986571",
     "status": "completed"
    },
    "tags": []
   },
   "outputs": [],
   "source": [
    "data.drop(\"id\",axis=1,inplace=True)"
   ]
  },
  {
   "cell_type": "code",
   "execution_count": 5,
   "id": "956aa2e0",
   "metadata": {
    "_cell_guid": "68f07b98-c05a-f3e6-7dbe-8e39ab7d13f6",
    "execution": {
     "iopub.execute_input": "2021-10-19T05:50:38.167777Z",
     "iopub.status.busy": "2021-10-19T05:50:38.167064Z",
     "iopub.status.idle": "2021-10-19T05:50:38.169696Z",
     "shell.execute_reply": "2021-10-19T05:50:38.170227Z",
     "shell.execute_reply.started": "2021-10-08T05:20:17.776482Z"
    },
    "papermill": {
     "duration": 0.060112,
     "end_time": "2021-10-19T05:50:38.170394",
     "exception": false,
     "start_time": "2021-10-19T05:50:38.110282",
     "status": "completed"
    },
    "tags": []
   },
   "outputs": [
    {
     "name": "stdout",
     "output_type": "stream",
     "text": [
      "['clump_thickness', 'size_uniformity', 'shape_uniformity', 'marginal_adhesion', 'epithelial_size', 'bare_nucleoli', 'bland_chromatin', 'normal_nucleoli', 'mitoses']\n"
     ]
    }
   ],
   "source": [
    "features = list(data.columns[0:9])\n",
    "print(features)"
   ]
  },
  {
   "cell_type": "code",
   "execution_count": 6,
   "id": "b3297f36",
   "metadata": {
    "_cell_guid": "dbdd0bf6-da03-c390-0e7a-f6b181f8e127",
    "execution": {
     "iopub.execute_input": "2021-10-19T05:50:38.277290Z",
     "iopub.status.busy": "2021-10-19T05:50:38.276581Z",
     "iopub.status.idle": "2021-10-19T05:50:38.282028Z",
     "shell.execute_reply": "2021-10-19T05:50:38.282711Z",
     "shell.execute_reply.started": "2021-10-08T05:20:17.784274Z"
    },
    "papermill": {
     "duration": 0.061451,
     "end_time": "2021-10-19T05:50:38.282897",
     "exception": false,
     "start_time": "2021-10-19T05:50:38.221446",
     "status": "completed"
    },
    "tags": []
   },
   "outputs": [],
   "source": [
    "data['diagnosis'] = data['diagnosis'].map({4:1, 2:0})"
   ]
  },
  {
   "cell_type": "code",
   "execution_count": 7,
   "id": "490d2efb",
   "metadata": {
    "_cell_guid": "598dce8d-1245-14e5-0e1c-ab609e51fec6",
    "execution": {
     "iopub.execute_input": "2021-10-19T05:50:38.403109Z",
     "iopub.status.busy": "2021-10-19T05:50:38.402094Z",
     "iopub.status.idle": "2021-10-19T05:50:38.623743Z",
     "shell.execute_reply": "2021-10-19T05:50:38.624384Z",
     "shell.execute_reply.started": "2021-10-08T05:20:17.792812Z"
    },
    "papermill": {
     "duration": 0.279536,
     "end_time": "2021-10-19T05:50:38.624572",
     "exception": false,
     "start_time": "2021-10-19T05:50:38.345036",
     "status": "completed"
    },
    "tags": []
   },
   "outputs": [
    {
     "data": {
      "image/png": "[encoded data removed]",
      "text/plain": [
       "<Figure size 432x288 with 1 Axes>"
      ]
     },
     "metadata": {},
     "output_type": "display_data"
    }
   ],
   "source": [
    "sns.set_theme(style=\"darkgrid\")\n",
    "ax = sns.countplot(x=\"diagnosis\", data=data)"
   ]
  },
  {
   "cell_type": "code",
   "execution_count": 8,
   "id": "d722c6e4",
   "metadata": {
    "_cell_guid": "fcd92fe8-fb89-d377-f135-c053e562e820",
    "execution": {
     "iopub.execute_input": "2021-10-19T05:50:38.729239Z",
     "iopub.status.busy": "2021-10-19T05:50:38.728245Z",
     "iopub.status.idle": "2021-10-19T05:50:38.730375Z",
     "shell.execute_reply": "2021-10-19T05:50:38.731005Z",
     "shell.execute_reply.started": "2021-10-08T05:20:18.023234Z"
    },
    "papermill": {
     "duration": 0.056611,
     "end_time": "2021-10-19T05:50:38.731171",
     "exception": false,
     "start_time": "2021-10-19T05:50:38.674560",
     "status": "completed"
    },
    "tags": []
   },
   "outputs": [],
   "source": [
    "prediction_var = features"
   ]
  },
  {
   "cell_type": "code",
   "execution_count": 9,
   "id": "696b66e8",
   "metadata": {
    "_cell_guid": "27cb4563-3191-8ab9-8ce2-224c2db223d0",
    "execution": {
     "iopub.execute_input": "2021-10-19T05:50:38.834284Z",
     "iopub.status.busy": "2021-10-19T05:50:38.833299Z",
     "iopub.status.idle": "2021-10-19T05:50:38.838376Z",
     "shell.execute_reply": "2021-10-19T05:50:38.838956Z",
     "shell.execute_reply.started": "2021-10-08T05:20:18.029776Z"
    },
    "papermill": {
     "duration": 0.058459,
     "end_time": "2021-10-19T05:50:38.839128",
     "exception": false,
     "start_time": "2021-10-19T05:50:38.780669",
     "status": "completed"
    },
    "tags": []
   },
   "outputs": [],
   "source": [
    "X = data[prediction_var]\n",
    "y = data.diagnosis "
   ]
  },
  {
   "cell_type": "markdown",
   "id": "ec5a4c7c",
   "metadata": {
    "papermill": {
     "duration": 0.049499,
     "end_time": "2021-10-19T05:50:38.938696",
     "exception": false,
     "start_time": "2021-10-19T05:50:38.889197",
     "status": "completed"
    },
    "tags": []
   },
   "source": [
    "## Data Preparation (iris)\n",
    "> https://archive.ics.uci.edu/ml/datasets/iris"
   ]
  },
  {
   "cell_type": "code",
   "execution_count": 10,
   "id": "532e324e",
   "metadata": {
    "execution": {
     "iopub.execute_input": "2021-10-19T05:50:39.042511Z",
     "iopub.status.busy": "2021-10-19T05:50:39.041517Z",
     "iopub.status.idle": "2021-10-19T05:50:39.065420Z",
     "shell.execute_reply": "2021-10-19T05:50:39.065964Z",
     "shell.execute_reply.started": "2021-10-08T05:20:18.044426Z"
    },
    "papermill": {
     "duration": 0.078118,
     "end_time": "2021-10-19T05:50:39.066131",
     "exception": false,
     "start_time": "2021-10-19T05:50:38.988013",
     "status": "completed"
    },
    "tags": []
   },
   "outputs": [
    {
     "data": {
      "text/html": [
       "<div>\n",
       "<style scoped>\n",
       "    .dataframe tbody tr th:only-of-type {\n",
       "        vertical-align: middle;\n",
       "    }\n",
       "\n",
       "    .dataframe tbody tr th {\n",
       "        vertical-align: top;\n",
       "    }\n",
       "\n",
       "    .dataframe thead th {\n",
       "        text-align: right;\n",
       "    }\n",
       "</style>\n",
       "<table border=\"1\" class=\"dataframe\">\n",
       "  <thead>\n",
       "    <tr style=\"text-align: right;\">\n",
       "      <th></th>\n",
       "      <th>Id</th>\n",
       "      <th>SepalLengthCm</th>\n",
       "      <th>SepalWidthCm</th>\n",
       "      <th>PetalLengthCm</th>\n",
       "      <th>PetalWidthCm</th>\n",
       "      <th>Species</th>\n",
       "    </tr>\n",
       "  </thead>\n",
       "  <tbody>\n",
       "    <tr>\n",
       "      <th>0</th>\n",
       "      <td>1</td>\n",
       "      <td>5.1</td>\n",
       "      <td>3.5</td>\n",
       "      <td>1.4</td>\n",
       "      <td>0.2</td>\n",
       "      <td>Iris-setosa</td>\n",
       "    </tr>\n",
       "    <tr>\n",
       "      <th>1</th>\n",
       "      <td>2</td>\n",
       "      <td>4.9</td>\n",
       "      <td>3.0</td>\n",
       "      <td>1.4</td>\n",
       "      <td>0.2</td>\n",
       "      <td>Iris-setosa</td>\n",
       "    </tr>\n",
       "    <tr>\n",
       "      <th>2</th>\n",
       "      <td>3</td>\n",
       "      <td>4.7</td>\n",
       "      <td>3.2</td>\n",
       "      <td>1.3</td>\n",
       "      <td>0.2</td>\n",
       "      <td>Iris-setosa</td>\n",
       "    </tr>\n",
       "    <tr>\n",
       "      <th>3</th>\n",
       "      <td>4</td>\n",
       "      <td>4.6</td>\n",
       "      <td>3.1</td>\n",
       "      <td>1.5</td>\n",
       "      <td>0.2</td>\n",
       "      <td>Iris-setosa</td>\n",
       "    </tr>\n",
       "    <tr>\n",
       "      <th>4</th>\n",
       "      <td>5</td>\n",
       "      <td>5.0</td>\n",
       "      <td>3.6</td>\n",
       "      <td>1.4</td>\n",
       "      <td>0.2</td>\n",
       "      <td>Iris-setosa</td>\n",
       "    </tr>\n",
       "  </tbody>\n",
       "</table>\n",
       "</div>"
      ],
      "text/plain": [
       "   Id  SepalLengthCm  SepalWidthCm  PetalLengthCm  PetalWidthCm      Species\n",
       "0   1            5.1           3.5            1.4           0.2  Iris-setosa\n",
       "1   2            4.9           3.0            1.4           0.2  Iris-setosa\n",
       "2   3            4.7           3.2            1.3           0.2  Iris-setosa\n",
       "3   4            4.6           3.1            1.5           0.2  Iris-setosa\n",
       "4   5            5.0           3.6            1.4           0.2  Iris-setosa"
      ]
     },
     "execution_count": 10,
     "metadata": {},
     "output_type": "execute_result"
    }
   ],
   "source": [
    "iris_data = pd.read_csv(\"../input/iris/Iris.csv\", header = 0)\n",
    "iris_data.head()"
   ]
  },
  {
   "cell_type": "code",
   "execution_count": 11,
   "id": "d738bb22",
   "metadata": {
    "execution": {
     "iopub.execute_input": "2021-10-19T05:50:39.170203Z",
     "iopub.status.busy": "2021-10-19T05:50:39.169269Z",
     "iopub.status.idle": "2021-10-19T05:50:39.181694Z",
     "shell.execute_reply": "2021-10-19T05:50:39.181153Z",
     "shell.execute_reply.started": "2021-10-08T05:20:18.071052Z"
    },
    "papermill": {
     "duration": 0.065482,
     "end_time": "2021-10-19T05:50:39.181862",
     "exception": false,
     "start_time": "2021-10-19T05:50:39.116380",
     "status": "completed"
    },
    "tags": []
   },
   "outputs": [
    {
     "name": "stdout",
     "output_type": "stream",
     "text": [
      "<class 'pandas.core.frame.DataFrame'>\n",
      "RangeIndex: 150 entries, 0 to 149\n",
      "Data columns (total 6 columns):\n",
      " #   Column         Non-Null Count  Dtype  \n",
      "---  ------         --------------  -----  \n",
      " 0   Id             150 non-null    int64  \n",
      " 1   SepalLengthCm  150 non-null    float64\n",
      " 2   SepalWidthCm   150 non-null    float64\n",
      " 3   PetalLengthCm  150 non-null    float64\n",
      " 4   PetalWidthCm   150 non-null    float64\n",
      " 5   Species        150 non-null    object \n",
      "dtypes: float64(4), int64(1), object(1)\n",
      "memory usage: 7.2+ KB\n"
     ]
    }
   ],
   "source": [
    "iris_data.info()"
   ]
  },
  {
   "cell_type": "code",
   "execution_count": 12,
   "id": "56ccc6f7",
   "metadata": {
    "execution": {
     "iopub.execute_input": "2021-10-19T05:50:39.288425Z",
     "iopub.status.busy": "2021-10-19T05:50:39.287756Z",
     "iopub.status.idle": "2021-10-19T05:50:39.289580Z",
     "shell.execute_reply": "2021-10-19T05:50:39.290193Z",
     "shell.execute_reply.started": "2021-10-08T05:20:18.084822Z"
    },
    "papermill": {
     "duration": 0.058162,
     "end_time": "2021-10-19T05:50:39.290360",
     "exception": false,
     "start_time": "2021-10-19T05:50:39.232198",
     "status": "completed"
    },
    "tags": []
   },
   "outputs": [],
   "source": [
    "iris_data.drop(\"Id\",axis=1,inplace=True)"
   ]
  },
  {
   "cell_type": "code",
   "execution_count": 13,
   "id": "2bb89c69",
   "metadata": {
    "execution": {
     "iopub.execute_input": "2021-10-19T05:50:39.394426Z",
     "iopub.status.busy": "2021-10-19T05:50:39.393761Z",
     "iopub.status.idle": "2021-10-19T05:50:39.399333Z",
     "shell.execute_reply": "2021-10-19T05:50:39.400362Z",
     "shell.execute_reply.started": "2021-10-08T05:20:18.097086Z"
    },
    "papermill": {
     "duration": 0.060072,
     "end_time": "2021-10-19T05:50:39.400601",
     "exception": false,
     "start_time": "2021-10-19T05:50:39.340529",
     "status": "completed"
    },
    "tags": []
   },
   "outputs": [
    {
     "name": "stdout",
     "output_type": "stream",
     "text": [
      "['SepalLengthCm', 'SepalWidthCm', 'PetalLengthCm', 'PetalWidthCm']\n"
     ]
    }
   ],
   "source": [
    "features = list(iris_data.columns[0:4])\n",
    "print(features)"
   ]
  },
  {
   "cell_type": "code",
   "execution_count": 14,
   "id": "3ca23b97",
   "metadata": {
    "execution": {
     "iopub.execute_input": "2021-10-19T05:50:39.511436Z",
     "iopub.status.busy": "2021-10-19T05:50:39.510663Z",
     "iopub.status.idle": "2021-10-19T05:50:39.513456Z",
     "shell.execute_reply": "2021-10-19T05:50:39.512940Z",
     "shell.execute_reply.started": "2021-10-08T05:20:18.107248Z"
    },
    "papermill": {
     "duration": 0.060346,
     "end_time": "2021-10-19T05:50:39.513618",
     "exception": false,
     "start_time": "2021-10-19T05:50:39.453272",
     "status": "completed"
    },
    "tags": []
   },
   "outputs": [],
   "source": [
    "iris_data['Species'] = iris_data['Species'].map({\"Iris-setosa\":0, \"Iris-versicolor\":1, \"Iris-virginica\": 2})"
   ]
  },
  {
   "cell_type": "code",
   "execution_count": 15,
   "id": "4bbe977c",
   "metadata": {
    "execution": {
     "iopub.execute_input": "2021-10-19T05:50:39.622853Z",
     "iopub.status.busy": "2021-10-19T05:50:39.618505Z",
     "iopub.status.idle": "2021-10-19T05:50:39.822672Z",
     "shell.execute_reply": "2021-10-19T05:50:39.821778Z",
     "shell.execute_reply.started": "2021-10-08T05:20:18.118224Z"
    },
    "papermill": {
     "duration": 0.257977,
     "end_time": "2021-10-19T05:50:39.822834",
     "exception": false,
     "start_time": "2021-10-19T05:50:39.564857",
     "status": "completed"
    },
    "tags": []
   },
   "outputs": [
    {
     "data": {
      "image/png": "[encoded data removed]",
      "text/plain": [
       "<Figure size 432x288 with 1 Axes>"
      ]
     },
     "metadata": {},
     "output_type": "display_data"
    }
   ],
   "source": [
    "sns.set_theme(style=\"darkgrid\")\n",
    "ax = sns.countplot(x=\"Species\", data=iris_data)"
   ]
  },
  {
   "cell_type": "code",
   "execution_count": 16,
   "id": "43598a27",
   "metadata": {
    "execution": {
     "iopub.execute_input": "2021-10-19T05:50:39.929207Z",
     "iopub.status.busy": "2021-10-19T05:50:39.928189Z",
     "iopub.status.idle": "2021-10-19T05:50:39.932289Z",
     "shell.execute_reply": "2021-10-19T05:50:39.932884Z",
     "shell.execute_reply.started": "2021-10-08T05:20:18.324464Z"
    },
    "papermill": {
     "duration": 0.058732,
     "end_time": "2021-10-19T05:50:39.933065",
     "exception": false,
     "start_time": "2021-10-19T05:50:39.874333",
     "status": "completed"
    },
    "tags": []
   },
   "outputs": [],
   "source": [
    "prediction_var = features"
   ]
  },
  {
   "cell_type": "code",
   "execution_count": 17,
   "id": "ace690eb",
   "metadata": {
    "execution": {
     "iopub.execute_input": "2021-10-19T05:50:40.041184Z",
     "iopub.status.busy": "2021-10-19T05:50:40.040225Z",
     "iopub.status.idle": "2021-10-19T05:50:40.045035Z",
     "shell.execute_reply": "2021-10-19T05:50:40.045607Z",
     "shell.execute_reply.started": "2021-10-08T05:20:18.331096Z"
    },
    "papermill": {
     "duration": 0.06039,
     "end_time": "2021-10-19T05:50:40.045768",
     "exception": false,
     "start_time": "2021-10-19T05:50:39.985378",
     "status": "completed"
    },
    "tags": []
   },
   "outputs": [],
   "source": [
    "X_iris = iris_data[prediction_var]\n",
    "y_iris = iris_data.Species "
   ]
  },
  {
   "cell_type": "markdown",
   "id": "bd244fa0",
   "metadata": {
    "papermill": {
     "duration": 0.051808,
     "end_time": "2021-10-19T05:50:40.149541",
     "exception": false,
     "start_time": "2021-10-19T05:50:40.097733",
     "status": "completed"
    },
    "tags": []
   },
   "source": [
    "## Data Preparation (pima-diabetes)\n",
    "> http://archive.ics.uci.edu/ml/datasets/Pima+Indians+Diabetes"
   ]
  },
  {
   "cell_type": "code",
   "execution_count": 18,
   "id": "fa6fc707",
   "metadata": {
    "execution": {
     "iopub.execute_input": "2021-10-19T05:50:40.258395Z",
     "iopub.status.busy": "2021-10-19T05:50:40.257640Z",
     "iopub.status.idle": "2021-10-19T05:50:40.280510Z",
     "shell.execute_reply": "2021-10-19T05:50:40.281079Z",
     "shell.execute_reply.started": "2021-10-08T05:20:18.341402Z"
    },
    "papermill": {
     "duration": 0.080235,
     "end_time": "2021-10-19T05:50:40.281254",
     "exception": false,
     "start_time": "2021-10-19T05:50:40.201019",
     "status": "completed"
    },
    "tags": []
   },
   "outputs": [
    {
     "data": {
      "text/html": [
       "<div>\n",
       "<style scoped>\n",
       "    .dataframe tbody tr th:only-of-type {\n",
       "        vertical-align: middle;\n",
       "    }\n",
       "\n",
       "    .dataframe tbody tr th {\n",
       "        vertical-align: top;\n",
       "    }\n",
       "\n",
       "    .dataframe thead th {\n",
       "        text-align: right;\n",
       "    }\n",
       "</style>\n",
       "<table border=\"1\" class=\"dataframe\">\n",
       "  <thead>\n",
       "    <tr style=\"text-align: right;\">\n",
       "      <th></th>\n",
       "      <th>Pregnancies</th>\n",
       "      <th>Glucose</th>\n",
       "      <th>BloodPressure</th>\n",
       "      <th>SkinThickness</th>\n",
       "      <th>Insulin</th>\n",
       "      <th>BMI</th>\n",
       "      <th>DiabetesPedigreeFunction</th>\n",
       "      <th>Age</th>\n",
       "      <th>Outcome</th>\n",
       "    </tr>\n",
       "  </thead>\n",
       "  <tbody>\n",
       "    <tr>\n",
       "      <th>0</th>\n",
       "      <td>6</td>\n",
       "      <td>148</td>\n",
       "      <td>72</td>\n",
       "      <td>35</td>\n",
       "      <td>0</td>\n",
       "      <td>33.6</td>\n",
       "      <td>0.627</td>\n",
       "      <td>50</td>\n",
       "      <td>1</td>\n",
       "    </tr>\n",
       "    <tr>\n",
       "      <th>1</th>\n",
       "      <td>1</td>\n",
       "      <td>85</td>\n",
       "      <td>66</td>\n",
       "      <td>29</td>\n",
       "      <td>0</td>\n",
       "      <td>26.6</td>\n",
       "      <td>0.351</td>\n",
       "      <td>31</td>\n",
       "      <td>0</td>\n",
       "    </tr>\n",
       "    <tr>\n",
       "      <th>2</th>\n",
       "      <td>8</td>\n",
       "      <td>183</td>\n",
       "      <td>64</td>\n",
       "      <td>0</td>\n",
       "      <td>0</td>\n",
       "      <td>23.3</td>\n",
       "      <td>0.672</td>\n",
       "      <td>32</td>\n",
       "      <td>1</td>\n",
       "    </tr>\n",
       "    <tr>\n",
       "      <th>3</th>\n",
       "      <td>1</td>\n",
       "      <td>89</td>\n",
       "      <td>66</td>\n",
       "      <td>23</td>\n",
       "      <td>94</td>\n",
       "      <td>28.1</td>\n",
       "      <td>0.167</td>\n",
       "      <td>21</td>\n",
       "      <td>0</td>\n",
       "    </tr>\n",
       "    <tr>\n",
       "      <th>4</th>\n",
       "      <td>0</td>\n",
       "      <td>137</td>\n",
       "      <td>40</td>\n",
       "      <td>35</td>\n",
       "      <td>168</td>\n",
       "      <td>43.1</td>\n",
       "      <td>2.288</td>\n",
       "      <td>33</td>\n",
       "      <td>1</td>\n",
       "    </tr>\n",
       "  </tbody>\n",
       "</table>\n",
       "</div>"
      ],
      "text/plain": [
       "   Pregnancies  Glucose  BloodPressure  SkinThickness  Insulin   BMI  \\\n",
       "0            6      148             72             35        0  33.6   \n",
       "1            1       85             66             29        0  26.6   \n",
       "2            8      183             64              0        0  23.3   \n",
       "3            1       89             66             23       94  28.1   \n",
       "4            0      137             40             35      168  43.1   \n",
       "\n",
       "   DiabetesPedigreeFunction  Age  Outcome  \n",
       "0                     0.627   50        1  \n",
       "1                     0.351   31        0  \n",
       "2                     0.672   32        1  \n",
       "3                     0.167   21        0  \n",
       "4                     2.288   33        1  "
      ]
     },
     "execution_count": 18,
     "metadata": {},
     "output_type": "execute_result"
    }
   ],
   "source": [
    "pima_diabetes_data = pd.read_csv(\"../input/pima-indians-diabetes-database/diabetes.csv\", header = 0)\n",
    "pima_diabetes_data.head()"
   ]
  },
  {
   "cell_type": "code",
   "execution_count": 19,
   "id": "9b099213",
   "metadata": {
    "execution": {
     "iopub.execute_input": "2021-10-19T05:50:40.389698Z",
     "iopub.status.busy": "2021-10-19T05:50:40.388755Z",
     "iopub.status.idle": "2021-10-19T05:50:40.400213Z",
     "shell.execute_reply": "2021-10-19T05:50:40.400778Z",
     "shell.execute_reply.started": "2021-10-08T05:20:18.369681Z"
    },
    "papermill": {
     "duration": 0.067314,
     "end_time": "2021-10-19T05:50:40.400961",
     "exception": false,
     "start_time": "2021-10-19T05:50:40.333647",
     "status": "completed"
    },
    "tags": []
   },
   "outputs": [
    {
     "name": "stdout",
     "output_type": "stream",
     "text": [
      "<class 'pandas.core.frame.DataFrame'>\n",
      "RangeIndex: 768 entries, 0 to 767\n",
      "Data columns (total 9 columns):\n",
      " #   Column                    Non-Null Count  Dtype  \n",
      "---  ------                    --------------  -----  \n",
      " 0   Pregnancies               768 non-null    int64  \n",
      " 1   Glucose                   768 non-null    int64  \n",
      " 2   BloodPressure             768 non-null    int64  \n",
      " 3   SkinThickness             768 non-null    int64  \n",
      " 4   Insulin                   768 non-null    int64  \n",
      " 5   BMI                       768 non-null    float64\n",
      " 6   DiabetesPedigreeFunction  768 non-null    float64\n",
      " 7   Age                       768 non-null    int64  \n",
      " 8   Outcome                   768 non-null    int64  \n",
      "dtypes: float64(2), int64(7)\n",
      "memory usage: 54.1 KB\n"
     ]
    }
   ],
   "source": [
    "pima_diabetes_data.info()"
   ]
  },
  {
   "cell_type": "code",
   "execution_count": 20,
   "id": "fb9aae8f",
   "metadata": {
    "execution": {
     "iopub.execute_input": "2021-10-19T05:50:40.509312Z",
     "iopub.status.busy": "2021-10-19T05:50:40.508363Z",
     "iopub.status.idle": "2021-10-19T05:50:40.513770Z",
     "shell.execute_reply": "2021-10-19T05:50:40.514285Z",
     "shell.execute_reply.started": "2021-10-08T05:20:18.382965Z"
    },
    "papermill": {
     "duration": 0.0612,
     "end_time": "2021-10-19T05:50:40.514460",
     "exception": false,
     "start_time": "2021-10-19T05:50:40.453260",
     "status": "completed"
    },
    "tags": []
   },
   "outputs": [
    {
     "name": "stdout",
     "output_type": "stream",
     "text": [
      "['Pregnancies', 'Glucose', 'BloodPressure', 'SkinThickness', 'Insulin', 'BMI', 'DiabetesPedigreeFunction', 'Age']\n"
     ]
    }
   ],
   "source": [
    "features = list(pima_diabetes_data.columns[0:8])\n",
    "print(features)"
   ]
  },
  {
   "cell_type": "code",
   "execution_count": 21,
   "id": "29ed0bf3",
   "metadata": {
    "execution": {
     "iopub.execute_input": "2021-10-19T05:50:40.626589Z",
     "iopub.status.busy": "2021-10-19T05:50:40.625590Z",
     "iopub.status.idle": "2021-10-19T05:50:40.919197Z",
     "shell.execute_reply": "2021-10-19T05:50:40.919805Z",
     "shell.execute_reply.started": "2021-10-08T05:20:18.392379Z"
    },
    "papermill": {
     "duration": 0.352796,
     "end_time": "2021-10-19T05:50:40.920025",
     "exception": false,
     "start_time": "2021-10-19T05:50:40.567229",
     "status": "completed"
    },
    "tags": []
   },
   "outputs": [
    {
     "data": {
      "image/png": "[encoded data removed]",
      "text/plain": [
       "<Figure size 432x288 with 1 Axes>"
      ]
     },
     "metadata": {},
     "output_type": "display_data"
    }
   ],
   "source": [
    "sns.set_theme(style=\"darkgrid\")\n",
    "ax = sns.countplot(x=\"Outcome\", data=pima_diabetes_data)"
   ]
  },
  {
   "cell_type": "code",
   "execution_count": 22,
   "id": "33726df0",
   "metadata": {
    "execution": {
     "iopub.execute_input": "2021-10-19T05:50:41.031763Z",
     "iopub.status.busy": "2021-10-19T05:50:41.031147Z",
     "iopub.status.idle": "2021-10-19T05:50:41.033397Z",
     "shell.execute_reply": "2021-10-19T05:50:41.034039Z",
     "shell.execute_reply.started": "2021-10-08T05:20:18.694869Z"
    },
    "papermill": {
     "duration": 0.06106,
     "end_time": "2021-10-19T05:50:41.034201",
     "exception": false,
     "start_time": "2021-10-19T05:50:40.973141",
     "status": "completed"
    },
    "tags": []
   },
   "outputs": [],
   "source": [
    "prediction_var = features"
   ]
  },
  {
   "cell_type": "code",
   "execution_count": 23,
   "id": "f30ef436",
   "metadata": {
    "execution": {
     "iopub.execute_input": "2021-10-19T05:50:41.144005Z",
     "iopub.status.busy": "2021-10-19T05:50:41.143355Z",
     "iopub.status.idle": "2021-10-19T05:50:41.147852Z",
     "shell.execute_reply": "2021-10-19T05:50:41.148380Z",
     "shell.execute_reply.started": "2021-10-08T05:20:18.700457Z"
    },
    "papermill": {
     "duration": 0.060503,
     "end_time": "2021-10-19T05:50:41.148549",
     "exception": false,
     "start_time": "2021-10-19T05:50:41.088046",
     "status": "completed"
    },
    "tags": []
   },
   "outputs": [],
   "source": [
    "X_pima_diabetes = pima_diabetes_data[prediction_var]\n",
    "y_pima_diabetes = pima_diabetes_data.Outcome "
   ]
  },
  {
   "cell_type": "markdown",
   "id": "c79df2f2",
   "metadata": {
    "papermill": {
     "duration": 0.053601,
     "end_time": "2021-10-19T05:50:41.255845",
     "exception": false,
     "start_time": "2021-10-19T05:50:41.202244",
     "status": "completed"
    },
    "tags": []
   },
   "source": [
    "## Data Preparation (heart)\n",
    "> https://archive.ics.uci.edu/ml/datasets/Heart+Disease"
   ]
  },
  {
   "cell_type": "code",
   "execution_count": 24,
   "id": "f93734ef",
   "metadata": {
    "execution": {
     "iopub.execute_input": "2021-10-19T05:50:41.366087Z",
     "iopub.status.busy": "2021-10-19T05:50:41.365398Z",
     "iopub.status.idle": "2021-10-19T05:50:41.386988Z",
     "shell.execute_reply": "2021-10-19T05:50:41.387579Z",
     "shell.execute_reply.started": "2021-10-08T05:20:18.711955Z"
    },
    "papermill": {
     "duration": 0.078671,
     "end_time": "2021-10-19T05:50:41.387756",
     "exception": false,
     "start_time": "2021-10-19T05:50:41.309085",
     "status": "completed"
    },
    "tags": []
   },
   "outputs": [
    {
     "data": {
      "text/html": [
       "<div>\n",
       "<style scoped>\n",
       "    .dataframe tbody tr th:only-of-type {\n",
       "        vertical-align: middle;\n",
       "    }\n",
       "\n",
       "    .dataframe tbody tr th {\n",
       "        vertical-align: top;\n",
       "    }\n",
       "\n",
       "    .dataframe thead th {\n",
       "        text-align: right;\n",
       "    }\n",
       "</style>\n",
       "<table border=\"1\" class=\"dataframe\">\n",
       "  <thead>\n",
       "    <tr style=\"text-align: right;\">\n",
       "      <th></th>\n",
       "      <th>age</th>\n",
       "      <th>sex</th>\n",
       "      <th>cp</th>\n",
       "      <th>trestbps</th>\n",
       "      <th>chol</th>\n",
       "      <th>fbs</th>\n",
       "      <th>restecg</th>\n",
       "      <th>thalach</th>\n",
       "      <th>exang</th>\n",
       "      <th>oldpeak</th>\n",
       "      <th>slope</th>\n",
       "      <th>ca</th>\n",
       "      <th>thal</th>\n",
       "      <th>target</th>\n",
       "    </tr>\n",
       "  </thead>\n",
       "  <tbody>\n",
       "    <tr>\n",
       "      <th>0</th>\n",
       "      <td>63</td>\n",
       "      <td>1</td>\n",
       "      <td>3</td>\n",
       "      <td>145</td>\n",
       "      <td>233</td>\n",
       "      <td>1</td>\n",
       "      <td>0</td>\n",
       "      <td>150</td>\n",
       "      <td>0</td>\n",
       "      <td>2.3</td>\n",
       "      <td>0</td>\n",
       "      <td>0</td>\n",
       "      <td>1</td>\n",
       "      <td>1</td>\n",
       "    </tr>\n",
       "    <tr>\n",
       "      <th>1</th>\n",
       "      <td>37</td>\n",
       "      <td>1</td>\n",
       "      <td>2</td>\n",
       "      <td>130</td>\n",
       "      <td>250</td>\n",
       "      <td>0</td>\n",
       "      <td>1</td>\n",
       "      <td>187</td>\n",
       "      <td>0</td>\n",
       "      <td>3.5</td>\n",
       "      <td>0</td>\n",
       "      <td>0</td>\n",
       "      <td>2</td>\n",
       "      <td>1</td>\n",
       "    </tr>\n",
       "    <tr>\n",
       "      <th>2</th>\n",
       "      <td>41</td>\n",
       "      <td>0</td>\n",
       "      <td>1</td>\n",
       "      <td>130</td>\n",
       "      <td>204</td>\n",
       "      <td>0</td>\n",
       "      <td>0</td>\n",
       "      <td>172</td>\n",
       "      <td>0</td>\n",
       "      <td>1.4</td>\n",
       "      <td>2</td>\n",
       "      <td>0</td>\n",
       "      <td>2</td>\n",
       "      <td>1</td>\n",
       "    </tr>\n",
       "    <tr>\n",
       "      <th>3</th>\n",
       "      <td>56</td>\n",
       "      <td>1</td>\n",
       "      <td>1</td>\n",
       "      <td>120</td>\n",
       "      <td>236</td>\n",
       "      <td>0</td>\n",
       "      <td>1</td>\n",
       "      <td>178</td>\n",
       "      <td>0</td>\n",
       "      <td>0.8</td>\n",
       "      <td>2</td>\n",
       "      <td>0</td>\n",
       "      <td>2</td>\n",
       "      <td>1</td>\n",
       "    </tr>\n",
       "    <tr>\n",
       "      <th>4</th>\n",
       "      <td>57</td>\n",
       "      <td>0</td>\n",
       "      <td>0</td>\n",
       "      <td>120</td>\n",
       "      <td>354</td>\n",
       "      <td>0</td>\n",
       "      <td>1</td>\n",
       "      <td>163</td>\n",
       "      <td>1</td>\n",
       "      <td>0.6</td>\n",
       "      <td>2</td>\n",
       "      <td>0</td>\n",
       "      <td>2</td>\n",
       "      <td>1</td>\n",
       "    </tr>\n",
       "  </tbody>\n",
       "</table>\n",
       "</div>"
      ],
      "text/plain": [
       "   age  sex  cp  trestbps  chol  fbs  restecg  thalach  exang  oldpeak  slope  \\\n",
       "0   63    1   3       145   233    1        0      150      0      2.3      0   \n",
       "1   37    1   2       130   250    0        1      187      0      3.5      0   \n",
       "2   41    0   1       130   204    0        0      172      0      1.4      2   \n",
       "3   56    1   1       120   236    0        1      178      0      0.8      2   \n",
       "4   57    0   0       120   354    0        1      163      1      0.6      2   \n",
       "\n",
       "   ca  thal  target  \n",
       "0   0     1       1  \n",
       "1   0     2       1  \n",
       "2   0     2       1  \n",
       "3   0     2       1  \n",
       "4   0     2       1  "
      ]
     },
     "execution_count": 24,
     "metadata": {},
     "output_type": "execute_result"
    }
   ],
   "source": [
    "heart_data = pd.read_csv(\"../input/heart-disease-uci/heart.csv\", header = 0)\n",
    "heart_data.head()"
   ]
  },
  {
   "cell_type": "code",
   "execution_count": 25,
   "id": "d9ad3a8b",
   "metadata": {
    "execution": {
     "iopub.execute_input": "2021-10-19T05:50:41.498214Z",
     "iopub.status.busy": "2021-10-19T05:50:41.497566Z",
     "iopub.status.idle": "2021-10-19T05:50:41.510090Z",
     "shell.execute_reply": "2021-10-19T05:50:41.509471Z",
     "shell.execute_reply.started": "2021-10-08T05:20:18.74703Z"
    },
    "papermill": {
     "duration": 0.068529,
     "end_time": "2021-10-19T05:50:41.510235",
     "exception": false,
     "start_time": "2021-10-19T05:50:41.441706",
     "status": "completed"
    },
    "tags": []
   },
   "outputs": [
    {
     "name": "stdout",
     "output_type": "stream",
     "text": [
      "<class 'pandas.core.frame.DataFrame'>\n",
      "RangeIndex: 303 entries, 0 to 302\n",
      "Data columns (total 14 columns):\n",
      " #   Column    Non-Null Count  Dtype  \n",
      "---  ------    --------------  -----  \n",
      " 0   age       303 non-null    int64  \n",
      " 1   sex       303 non-null    int64  \n",
      " 2   cp        303 non-null    int64  \n",
      " 3   trestbps  303 non-null    int64  \n",
      " 4   chol      303 non-null    int64  \n",
      " 5   fbs       303 non-null    int64  \n",
      " 6   restecg   303 non-null    int64  \n",
      " 7   thalach   303 non-null    int64  \n",
      " 8   exang     303 non-null    int64  \n",
      " 9   oldpeak   303 non-null    float64\n",
      " 10  slope     303 non-null    int64  \n",
      " 11  ca        303 non-null    int64  \n",
      " 12  thal      303 non-null    int64  \n",
      " 13  target    303 non-null    int64  \n",
      "dtypes: float64(1), int64(13)\n",
      "memory usage: 33.3 KB\n"
     ]
    }
   ],
   "source": [
    "heart_data.info()"
   ]
  },
  {
   "cell_type": "code",
   "execution_count": 26,
   "id": "7ce7f87d",
   "metadata": {
    "execution": {
     "iopub.execute_input": "2021-10-19T05:50:41.622763Z",
     "iopub.status.busy": "2021-10-19T05:50:41.622149Z",
     "iopub.status.idle": "2021-10-19T05:50:41.626720Z",
     "shell.execute_reply": "2021-10-19T05:50:41.627304Z",
     "shell.execute_reply.started": "2021-10-08T05:20:18.760031Z"
    },
    "papermill": {
     "duration": 0.062837,
     "end_time": "2021-10-19T05:50:41.627463",
     "exception": false,
     "start_time": "2021-10-19T05:50:41.564626",
     "status": "completed"
    },
    "tags": []
   },
   "outputs": [
    {
     "name": "stdout",
     "output_type": "stream",
     "text": [
      "['age', 'sex', 'cp', 'trestbps', 'chol', 'fbs', 'restecg', 'thalach', 'exang', 'oldpeak', 'slope', 'ca', 'thal']\n"
     ]
    }
   ],
   "source": [
    "features = list(heart_data.columns[0:13])\n",
    "print(features)"
   ]
  },
  {
   "cell_type": "code",
   "execution_count": 27,
   "id": "2ae53761",
   "metadata": {
    "execution": {
     "iopub.execute_input": "2021-10-19T05:50:41.739795Z",
     "iopub.status.busy": "2021-10-19T05:50:41.739126Z",
     "iopub.status.idle": "2021-10-19T05:50:41.946051Z",
     "shell.execute_reply": "2021-10-19T05:50:41.945528Z",
     "shell.execute_reply.started": "2021-10-08T05:20:18.769309Z"
    },
    "papermill": {
     "duration": 0.263955,
     "end_time": "2021-10-19T05:50:41.946193",
     "exception": false,
     "start_time": "2021-10-19T05:50:41.682238",
     "status": "completed"
    },
    "tags": []
   },
   "outputs": [
    {
     "data": {
      "image/png": "[encoded data removed]",
      "text/plain": [
       "<Figure size 432x288 with 1 Axes>"
      ]
     },
     "metadata": {},
     "output_type": "display_data"
    }
   ],
   "source": [
    "sns.set_theme(style=\"darkgrid\")\n",
    "ax = sns.countplot(x=\"target\", data=heart_data)"
   ]
  },
  {
   "cell_type": "code",
   "execution_count": 28,
   "id": "5debb3e9",
   "metadata": {
    "execution": {
     "iopub.execute_input": "2021-10-19T05:50:42.065108Z",
     "iopub.status.busy": "2021-10-19T05:50:42.064388Z",
     "iopub.status.idle": "2021-10-19T05:50:42.067495Z",
     "shell.execute_reply": "2021-10-19T05:50:42.066927Z",
     "shell.execute_reply.started": "2021-10-08T05:20:19.004349Z"
    },
    "papermill": {
     "duration": 0.063882,
     "end_time": "2021-10-19T05:50:42.067651",
     "exception": false,
     "start_time": "2021-10-19T05:50:42.003769",
     "status": "completed"
    },
    "tags": []
   },
   "outputs": [],
   "source": [
    "prediction_var = features"
   ]
  },
  {
   "cell_type": "code",
   "execution_count": 29,
   "id": "e4e8d004",
   "metadata": {
    "execution": {
     "iopub.execute_input": "2021-10-19T05:50:42.184937Z",
     "iopub.status.busy": "2021-10-19T05:50:42.184253Z",
     "iopub.status.idle": "2021-10-19T05:50:42.187306Z",
     "shell.execute_reply": "2021-10-19T05:50:42.186759Z",
     "shell.execute_reply.started": "2021-10-08T05:20:19.010392Z"
    },
    "papermill": {
     "duration": 0.063896,
     "end_time": "2021-10-19T05:50:42.187447",
     "exception": false,
     "start_time": "2021-10-19T05:50:42.123551",
     "status": "completed"
    },
    "tags": []
   },
   "outputs": [],
   "source": [
    "X_heart = heart_data[prediction_var]\n",
    "y_heart = heart_data.target "
   ]
  },
  {
   "cell_type": "markdown",
   "id": "9055747d",
   "metadata": {
    "papermill": {
     "duration": 0.05499,
     "end_time": "2021-10-19T05:50:42.298077",
     "exception": false,
     "start_time": "2021-10-19T05:50:42.243087",
     "status": "completed"
    },
    "tags": []
   },
   "source": [
    "## Data Preparation (tic-tac-toe)\n",
    "> https://archive.ics.uci.edu/ml/datasets/Tic-Tac-Toe+Endgame"
   ]
  },
  {
   "cell_type": "code",
   "execution_count": 30,
   "id": "b3a3e047",
   "metadata": {
    "execution": {
     "iopub.execute_input": "2021-10-19T05:50:42.415053Z",
     "iopub.status.busy": "2021-10-19T05:50:42.414337Z",
     "iopub.status.idle": "2021-10-19T05:50:42.445657Z",
     "shell.execute_reply": "2021-10-19T05:50:42.446201Z",
     "shell.execute_reply.started": "2021-10-08T05:20:19.020643Z"
    },
    "papermill": {
     "duration": 0.092763,
     "end_time": "2021-10-19T05:50:42.446400",
     "exception": false,
     "start_time": "2021-10-19T05:50:42.353637",
     "status": "completed"
    },
    "tags": []
   },
   "outputs": [
    {
     "data": {
      "text/html": [
       "<div>\n",
       "<style scoped>\n",
       "    .dataframe tbody tr th:only-of-type {\n",
       "        vertical-align: middle;\n",
       "    }\n",
       "\n",
       "    .dataframe tbody tr th {\n",
       "        vertical-align: top;\n",
       "    }\n",
       "\n",
       "    .dataframe thead th {\n",
       "        text-align: right;\n",
       "    }\n",
       "</style>\n",
       "<table border=\"1\" class=\"dataframe\">\n",
       "  <thead>\n",
       "    <tr style=\"text-align: right;\">\n",
       "      <th></th>\n",
       "      <th>V1</th>\n",
       "      <th>V2</th>\n",
       "      <th>V3</th>\n",
       "      <th>V4</th>\n",
       "      <th>V5</th>\n",
       "      <th>V6</th>\n",
       "      <th>V7</th>\n",
       "      <th>V8</th>\n",
       "      <th>V9</th>\n",
       "      <th>V10</th>\n",
       "    </tr>\n",
       "  </thead>\n",
       "  <tbody>\n",
       "    <tr>\n",
       "      <th>0</th>\n",
       "      <td>0</td>\n",
       "      <td>0</td>\n",
       "      <td>0</td>\n",
       "      <td>0</td>\n",
       "      <td>1</td>\n",
       "      <td>1</td>\n",
       "      <td>0</td>\n",
       "      <td>1</td>\n",
       "      <td>1</td>\n",
       "      <td>1</td>\n",
       "    </tr>\n",
       "    <tr>\n",
       "      <th>1</th>\n",
       "      <td>0</td>\n",
       "      <td>0</td>\n",
       "      <td>0</td>\n",
       "      <td>0</td>\n",
       "      <td>1</td>\n",
       "      <td>1</td>\n",
       "      <td>1</td>\n",
       "      <td>0</td>\n",
       "      <td>1</td>\n",
       "      <td>1</td>\n",
       "    </tr>\n",
       "    <tr>\n",
       "      <th>2</th>\n",
       "      <td>0</td>\n",
       "      <td>0</td>\n",
       "      <td>0</td>\n",
       "      <td>0</td>\n",
       "      <td>1</td>\n",
       "      <td>1</td>\n",
       "      <td>1</td>\n",
       "      <td>1</td>\n",
       "      <td>0</td>\n",
       "      <td>1</td>\n",
       "    </tr>\n",
       "    <tr>\n",
       "      <th>3</th>\n",
       "      <td>0</td>\n",
       "      <td>0</td>\n",
       "      <td>0</td>\n",
       "      <td>0</td>\n",
       "      <td>1</td>\n",
       "      <td>1</td>\n",
       "      <td>1</td>\n",
       "      <td>2</td>\n",
       "      <td>2</td>\n",
       "      <td>1</td>\n",
       "    </tr>\n",
       "    <tr>\n",
       "      <th>4</th>\n",
       "      <td>0</td>\n",
       "      <td>0</td>\n",
       "      <td>0</td>\n",
       "      <td>0</td>\n",
       "      <td>1</td>\n",
       "      <td>1</td>\n",
       "      <td>2</td>\n",
       "      <td>1</td>\n",
       "      <td>2</td>\n",
       "      <td>1</td>\n",
       "    </tr>\n",
       "  </tbody>\n",
       "</table>\n",
       "</div>"
      ],
      "text/plain": [
       "   V1  V2  V3  V4  V5  V6  V7  V8  V9  V10\n",
       "0   0   0   0   0   1   1   0   1   1    1\n",
       "1   0   0   0   0   1   1   1   0   1    1\n",
       "2   0   0   0   0   1   1   1   1   0    1\n",
       "3   0   0   0   0   1   1   1   2   2    1\n",
       "4   0   0   0   0   1   1   2   1   2    1"
      ]
     },
     "execution_count": 30,
     "metadata": {},
     "output_type": "execute_result"
    }
   ],
   "source": [
    "tictactoe_data = pd.read_csv(\"../input/tictactoe-endgame-dataset-uci/tic-tac-toe-endgame.csv\", header = 0)\n",
    "tictactoe_data.replace('x',0,inplace=True)\n",
    "tictactoe_data.replace('o',1,inplace=True)\n",
    "tictactoe_data.replace('b',2,inplace=True)\n",
    "tictactoe_data.replace('negative',0,inplace=True)\n",
    "tictactoe_data.replace('positive',1,inplace=True)\n",
    "tictactoe_data.head()"
   ]
  },
  {
   "cell_type": "code",
   "execution_count": 31,
   "id": "c085ef99",
   "metadata": {
    "execution": {
     "iopub.execute_input": "2021-10-19T05:50:42.561066Z",
     "iopub.status.busy": "2021-10-19T05:50:42.560459Z",
     "iopub.status.idle": "2021-10-19T05:50:42.572772Z",
     "shell.execute_reply": "2021-10-19T05:50:42.572223Z",
     "shell.execute_reply.started": "2021-10-08T05:20:19.067172Z"
    },
    "papermill": {
     "duration": 0.070464,
     "end_time": "2021-10-19T05:50:42.572950",
     "exception": false,
     "start_time": "2021-10-19T05:50:42.502486",
     "status": "completed"
    },
    "tags": []
   },
   "outputs": [
    {
     "name": "stdout",
     "output_type": "stream",
     "text": [
      "<class 'pandas.core.frame.DataFrame'>\n",
      "RangeIndex: 958 entries, 0 to 957\n",
      "Data columns (total 10 columns):\n",
      " #   Column  Non-Null Count  Dtype\n",
      "---  ------  --------------  -----\n",
      " 0   V1      958 non-null    int64\n",
      " 1   V2      958 non-null    int64\n",
      " 2   V3      958 non-null    int64\n",
      " 3   V4      958 non-null    int64\n",
      " 4   V5      958 non-null    int64\n",
      " 5   V6      958 non-null    int64\n",
      " 6   V7      958 non-null    int64\n",
      " 7   V8      958 non-null    int64\n",
      " 8   V9      958 non-null    int64\n",
      " 9   V10     958 non-null    int64\n",
      "dtypes: int64(10)\n",
      "memory usage: 75.0 KB\n"
     ]
    }
   ],
   "source": [
    "tictactoe_data.info()"
   ]
  },
  {
   "cell_type": "code",
   "execution_count": 32,
   "id": "05150f66",
   "metadata": {
    "execution": {
     "iopub.execute_input": "2021-10-19T05:50:42.690761Z",
     "iopub.status.busy": "2021-10-19T05:50:42.688690Z",
     "iopub.status.idle": "2021-10-19T05:50:42.694524Z",
     "shell.execute_reply": "2021-10-19T05:50:42.695071Z",
     "shell.execute_reply.started": "2021-10-08T05:20:19.081092Z"
    },
    "papermill": {
     "duration": 0.065086,
     "end_time": "2021-10-19T05:50:42.695231",
     "exception": false,
     "start_time": "2021-10-19T05:50:42.630145",
     "status": "completed"
    },
    "tags": []
   },
   "outputs": [
    {
     "name": "stdout",
     "output_type": "stream",
     "text": [
      "['V1', 'V2', 'V3', 'V4', 'V5', 'V6', 'V7', 'V8', 'V9']\n"
     ]
    }
   ],
   "source": [
    "features = list(tictactoe_data.columns[0:9])\n",
    "print(features)"
   ]
  },
  {
   "cell_type": "code",
   "execution_count": 33,
   "id": "6075b4b4",
   "metadata": {
    "execution": {
     "iopub.execute_input": "2021-10-19T05:50:42.817113Z",
     "iopub.status.busy": "2021-10-19T05:50:42.816459Z",
     "iopub.status.idle": "2021-10-19T05:50:43.008951Z",
     "shell.execute_reply": "2021-10-19T05:50:43.008414Z",
     "shell.execute_reply.started": "2021-10-08T05:20:19.087232Z"
    },
    "papermill": {
     "duration": 0.256867,
     "end_time": "2021-10-19T05:50:43.009111",
     "exception": false,
     "start_time": "2021-10-19T05:50:42.752244",
     "status": "completed"
    },
    "tags": []
   },
   "outputs": [
    {
     "data": {
      "image/png": "[encoded data removed]",
      "text/plain": [
       "<Figure size 432x288 with 1 Axes>"
      ]
     },
     "metadata": {},
     "output_type": "display_data"
    }
   ],
   "source": [
    "sns.set_theme(style=\"darkgrid\")\n",
    "ax = sns.countplot(x=\"V10\", data = tictactoe_data)"
   ]
  },
  {
   "cell_type": "code",
   "execution_count": 34,
   "id": "4d0eb016",
   "metadata": {
    "execution": {
     "iopub.execute_input": "2021-10-19T05:50:43.128923Z",
     "iopub.status.busy": "2021-10-19T05:50:43.128258Z",
     "iopub.status.idle": "2021-10-19T05:50:43.131466Z",
     "shell.execute_reply": "2021-10-19T05:50:43.132036Z",
     "shell.execute_reply.started": "2021-10-08T05:20:19.275982Z"
    },
    "papermill": {
     "duration": 0.064629,
     "end_time": "2021-10-19T05:50:43.132197",
     "exception": false,
     "start_time": "2021-10-19T05:50:43.067568",
     "status": "completed"
    },
    "tags": []
   },
   "outputs": [],
   "source": [
    "prediction_var = features"
   ]
  },
  {
   "cell_type": "code",
   "execution_count": 35,
   "id": "a71509cb",
   "metadata": {
    "execution": {
     "iopub.execute_input": "2021-10-19T05:50:43.251980Z",
     "iopub.status.busy": "2021-10-19T05:50:43.251301Z",
     "iopub.status.idle": "2021-10-19T05:50:43.253765Z",
     "shell.execute_reply": "2021-10-19T05:50:43.254356Z",
     "shell.execute_reply.started": "2021-10-08T05:20:19.28034Z"
    },
    "papermill": {
     "duration": 0.065278,
     "end_time": "2021-10-19T05:50:43.254518",
     "exception": false,
     "start_time": "2021-10-19T05:50:43.189240",
     "status": "completed"
    },
    "tags": []
   },
   "outputs": [],
   "source": [
    "X_tictactoe = tictactoe_data[prediction_var]\n",
    "y_tictactoe = tictactoe_data.V10 "
   ]
  },
  {
   "cell_type": "code",
   "execution_count": null,
   "id": "c9cb86b2",
   "metadata": {
    "papermill": {
     "duration": 0.056645,
     "end_time": "2021-10-19T05:50:43.368647",
     "exception": false,
     "start_time": "2021-10-19T05:50:43.312002",
     "status": "completed"
    },
    "tags": []
   },
   "outputs": [],
   "source": []
  },
  {
   "cell_type": "markdown",
   "id": "c7f0739f",
   "metadata": {
    "execution": {
     "iopub.execute_input": "2021-09-23T01:03:22.333894Z",
     "iopub.status.busy": "2021-09-23T01:03:22.333325Z",
     "iopub.status.idle": "2021-09-23T01:03:22.35925Z",
     "shell.execute_reply": "2021-09-23T01:03:22.358087Z",
     "shell.execute_reply.started": "2021-09-23T01:03:22.333791Z"
    },
    "papermill": {
     "duration": 0.05657,
     "end_time": "2021-10-19T05:50:43.482425",
     "exception": false,
     "start_time": "2021-10-19T05:50:43.425855",
     "status": "completed"
    },
    "tags": []
   },
   "source": [
    "## Data Preparation (acute-inflammations) (additional)\n",
    "> https://archive.ics.uci.edu/ml/datasets/Acute+Inflammations"
   ]
  },
  {
   "cell_type": "code",
   "execution_count": 36,
   "id": "f3288764",
   "metadata": {
    "execution": {
     "iopub.execute_input": "2021-10-19T05:50:43.599100Z",
     "iopub.status.busy": "2021-10-19T05:50:43.598417Z",
     "iopub.status.idle": "2021-10-19T05:50:43.618366Z",
     "shell.execute_reply": "2021-10-19T05:50:43.618973Z",
     "shell.execute_reply.started": "2021-10-08T05:20:19.294054Z"
    },
    "papermill": {
     "duration": 0.07989,
     "end_time": "2021-10-19T05:50:43.619144",
     "exception": false,
     "start_time": "2021-10-19T05:50:43.539254",
     "status": "completed"
    },
    "tags": []
   },
   "outputs": [
    {
     "data": {
      "text/html": [
       "<div>\n",
       "<style scoped>\n",
       "    .dataframe tbody tr th:only-of-type {\n",
       "        vertical-align: middle;\n",
       "    }\n",
       "\n",
       "    .dataframe tbody tr th {\n",
       "        vertical-align: top;\n",
       "    }\n",
       "\n",
       "    .dataframe thead th {\n",
       "        text-align: right;\n",
       "    }\n",
       "</style>\n",
       "<table border=\"1\" class=\"dataframe\">\n",
       "  <thead>\n",
       "    <tr style=\"text-align: right;\">\n",
       "      <th></th>\n",
       "      <th>0</th>\n",
       "      <th>1</th>\n",
       "      <th>2</th>\n",
       "      <th>3</th>\n",
       "      <th>4</th>\n",
       "      <th>5</th>\n",
       "      <th>diagnosis</th>\n",
       "    </tr>\n",
       "  </thead>\n",
       "  <tbody>\n",
       "    <tr>\n",
       "      <th>0</th>\n",
       "      <td>35.5</td>\n",
       "      <td>0</td>\n",
       "      <td>1</td>\n",
       "      <td>0</td>\n",
       "      <td>0</td>\n",
       "      <td>0</td>\n",
       "      <td>0</td>\n",
       "    </tr>\n",
       "    <tr>\n",
       "      <th>1</th>\n",
       "      <td>35.9</td>\n",
       "      <td>0</td>\n",
       "      <td>0</td>\n",
       "      <td>1</td>\n",
       "      <td>1</td>\n",
       "      <td>1</td>\n",
       "      <td>1</td>\n",
       "    </tr>\n",
       "    <tr>\n",
       "      <th>2</th>\n",
       "      <td>35.9</td>\n",
       "      <td>0</td>\n",
       "      <td>1</td>\n",
       "      <td>0</td>\n",
       "      <td>0</td>\n",
       "      <td>0</td>\n",
       "      <td>0</td>\n",
       "    </tr>\n",
       "    <tr>\n",
       "      <th>3</th>\n",
       "      <td>36.0</td>\n",
       "      <td>0</td>\n",
       "      <td>0</td>\n",
       "      <td>1</td>\n",
       "      <td>1</td>\n",
       "      <td>1</td>\n",
       "      <td>1</td>\n",
       "    </tr>\n",
       "    <tr>\n",
       "      <th>4</th>\n",
       "      <td>36.0</td>\n",
       "      <td>0</td>\n",
       "      <td>1</td>\n",
       "      <td>0</td>\n",
       "      <td>0</td>\n",
       "      <td>0</td>\n",
       "      <td>0</td>\n",
       "    </tr>\n",
       "  </tbody>\n",
       "</table>\n",
       "</div>"
      ],
      "text/plain": [
       "      0  1  2  3  4  5  diagnosis\n",
       "0  35.5  0  1  0  0  0          0\n",
       "1  35.9  0  0  1  1  1          1\n",
       "2  35.9  0  1  0  0  0          0\n",
       "3  36.0  0  0  1  1  1          1\n",
       "4  36.0  0  1  0  0  0          0"
      ]
     },
     "execution_count": 36,
     "metadata": {},
     "output_type": "execute_result"
    }
   ],
   "source": [
    "inflammations_data = pd.read_csv(\"../input/acute-inflammations-data-set/diagnosis.csv\", header = 0)\n",
    "inflammations_data = inflammations_data.iloc[: , :-1]\n",
    "inflammations_data.rename(columns={'6': 'diagnosis'}, inplace=True)\n",
    "inflammations_data.head()"
   ]
  },
  {
   "cell_type": "code",
   "execution_count": 37,
   "id": "83b68586",
   "metadata": {
    "execution": {
     "iopub.execute_input": "2021-10-19T05:50:43.737839Z",
     "iopub.status.busy": "2021-10-19T05:50:43.737233Z",
     "iopub.status.idle": "2021-10-19T05:50:43.749107Z",
     "shell.execute_reply": "2021-10-19T05:50:43.748551Z",
     "shell.execute_reply.started": "2021-10-08T05:20:19.32026Z"
    },
    "papermill": {
     "duration": 0.071923,
     "end_time": "2021-10-19T05:50:43.749245",
     "exception": false,
     "start_time": "2021-10-19T05:50:43.677322",
     "status": "completed"
    },
    "tags": []
   },
   "outputs": [
    {
     "name": "stdout",
     "output_type": "stream",
     "text": [
      "<class 'pandas.core.frame.DataFrame'>\n",
      "RangeIndex: 120 entries, 0 to 119\n",
      "Data columns (total 7 columns):\n",
      " #   Column     Non-Null Count  Dtype  \n",
      "---  ------     --------------  -----  \n",
      " 0   0          120 non-null    float64\n",
      " 1   1          120 non-null    int64  \n",
      " 2   2          120 non-null    int64  \n",
      " 3   3          120 non-null    int64  \n",
      " 4   4          120 non-null    int64  \n",
      " 5   5          120 non-null    int64  \n",
      " 6   diagnosis  120 non-null    int64  \n",
      "dtypes: float64(1), int64(6)\n",
      "memory usage: 6.7 KB\n"
     ]
    }
   ],
   "source": [
    "inflammations_data.info()"
   ]
  },
  {
   "cell_type": "code",
   "execution_count": 38,
   "id": "f77405b0",
   "metadata": {
    "execution": {
     "iopub.execute_input": "2021-10-19T05:50:43.867892Z",
     "iopub.status.busy": "2021-10-19T05:50:43.867218Z",
     "iopub.status.idle": "2021-10-19T05:50:43.872284Z",
     "shell.execute_reply": "2021-10-19T05:50:43.872725Z",
     "shell.execute_reply.started": "2021-10-08T05:20:19.334994Z"
    },
    "papermill": {
     "duration": 0.065388,
     "end_time": "2021-10-19T05:50:43.872916",
     "exception": false,
     "start_time": "2021-10-19T05:50:43.807528",
     "status": "completed"
    },
    "tags": []
   },
   "outputs": [
    {
     "name": "stdout",
     "output_type": "stream",
     "text": [
      "['0', '1', '2', '3', '4', '5']\n"
     ]
    }
   ],
   "source": [
    "features = list(inflammations_data.columns[0:6])\n",
    "print(features)"
   ]
  },
  {
   "cell_type": "code",
   "execution_count": 39,
   "id": "6eefbf09",
   "metadata": {
    "execution": {
     "iopub.execute_input": "2021-10-19T05:50:43.996441Z",
     "iopub.status.busy": "2021-10-19T05:50:43.995735Z",
     "iopub.status.idle": "2021-10-19T05:50:44.190330Z",
     "shell.execute_reply": "2021-10-19T05:50:44.189802Z",
     "shell.execute_reply.started": "2021-10-08T05:20:19.341667Z"
    },
    "papermill": {
     "duration": 0.259687,
     "end_time": "2021-10-19T05:50:44.190468",
     "exception": false,
     "start_time": "2021-10-19T05:50:43.930781",
     "status": "completed"
    },
    "tags": []
   },
   "outputs": [
    {
     "data": {
      "image/png": "[encoded data removed]",
      "text/plain": [
       "<Figure size 432x288 with 1 Axes>"
      ]
     },
     "metadata": {},
     "output_type": "display_data"
    }
   ],
   "source": [
    "sns.set_theme(style=\"darkgrid\")\n",
    "ax = sns.countplot(x=\"diagnosis\", data = inflammations_data)"
   ]
  },
  {
   "cell_type": "code",
   "execution_count": 40,
   "id": "7261701c",
   "metadata": {
    "execution": {
     "iopub.execute_input": "2021-10-19T05:50:44.311032Z",
     "iopub.status.busy": "2021-10-19T05:50:44.310285Z",
     "iopub.status.idle": "2021-10-19T05:50:44.313971Z",
     "shell.execute_reply": "2021-10-19T05:50:44.314457Z",
     "shell.execute_reply.started": "2021-10-08T05:20:19.548146Z"
    },
    "papermill": {
     "duration": 0.06535,
     "end_time": "2021-10-19T05:50:44.314620",
     "exception": false,
     "start_time": "2021-10-19T05:50:44.249270",
     "status": "completed"
    },
    "tags": []
   },
   "outputs": [],
   "source": [
    "prediction_var = features"
   ]
  },
  {
   "cell_type": "code",
   "execution_count": 41,
   "id": "cbb677ae",
   "metadata": {
    "execution": {
     "iopub.execute_input": "2021-10-19T05:50:44.435121Z",
     "iopub.status.busy": "2021-10-19T05:50:44.434498Z",
     "iopub.status.idle": "2021-10-19T05:50:44.438741Z",
     "shell.execute_reply": "2021-10-19T05:50:44.439243Z",
     "shell.execute_reply.started": "2021-10-08T05:20:19.553352Z"
    },
    "papermill": {
     "duration": 0.065995,
     "end_time": "2021-10-19T05:50:44.439404",
     "exception": false,
     "start_time": "2021-10-19T05:50:44.373409",
     "status": "completed"
    },
    "tags": []
   },
   "outputs": [],
   "source": [
    "X_inflammations = inflammations_data[prediction_var]\n",
    "y_inflammations = inflammations_data.diagnosis "
   ]
  },
  {
   "cell_type": "markdown",
   "id": "4439fa3b",
   "metadata": {
    "papermill": {
     "duration": 0.058922,
     "end_time": "2021-10-19T05:50:44.557101",
     "exception": false,
     "start_time": "2021-10-19T05:50:44.498179",
     "status": "completed"
    },
    "tags": []
   },
   "source": [
    "## Data Preparation (balance-scale) (additional)\n",
    "> https://archive.ics.uci.edu/ml/datasets/Balance+Scale"
   ]
  },
  {
   "cell_type": "code",
   "execution_count": 42,
   "id": "6f9135bd",
   "metadata": {
    "execution": {
     "iopub.execute_input": "2021-10-19T05:50:44.678062Z",
     "iopub.status.busy": "2021-10-19T05:50:44.677440Z",
     "iopub.status.idle": "2021-10-19T05:50:44.699061Z",
     "shell.execute_reply": "2021-10-19T05:50:44.698418Z",
     "shell.execute_reply.started": "2021-10-08T05:20:19.567059Z"
    },
    "papermill": {
     "duration": 0.083031,
     "end_time": "2021-10-19T05:50:44.699214",
     "exception": false,
     "start_time": "2021-10-19T05:50:44.616183",
     "status": "completed"
    },
    "tags": []
   },
   "outputs": [
    {
     "data": {
      "text/html": [
       "<div>\n",
       "<style scoped>\n",
       "    .dataframe tbody tr th:only-of-type {\n",
       "        vertical-align: middle;\n",
       "    }\n",
       "\n",
       "    .dataframe tbody tr th {\n",
       "        vertical-align: top;\n",
       "    }\n",
       "\n",
       "    .dataframe thead th {\n",
       "        text-align: right;\n",
       "    }\n",
       "</style>\n",
       "<table border=\"1\" class=\"dataframe\">\n",
       "  <thead>\n",
       "    <tr style=\"text-align: right;\">\n",
       "      <th></th>\n",
       "      <th>Class</th>\n",
       "      <th>L-Weight</th>\n",
       "      <th>L-Distance</th>\n",
       "      <th>R-Weight</th>\n",
       "      <th>R-Distance</th>\n",
       "    </tr>\n",
       "  </thead>\n",
       "  <tbody>\n",
       "    <tr>\n",
       "      <th>0</th>\n",
       "      <td>B</td>\n",
       "      <td>1</td>\n",
       "      <td>1</td>\n",
       "      <td>1</td>\n",
       "      <td>1</td>\n",
       "    </tr>\n",
       "    <tr>\n",
       "      <th>1</th>\n",
       "      <td>R</td>\n",
       "      <td>1</td>\n",
       "      <td>1</td>\n",
       "      <td>1</td>\n",
       "      <td>2</td>\n",
       "    </tr>\n",
       "    <tr>\n",
       "      <th>2</th>\n",
       "      <td>R</td>\n",
       "      <td>1</td>\n",
       "      <td>1</td>\n",
       "      <td>1</td>\n",
       "      <td>3</td>\n",
       "    </tr>\n",
       "    <tr>\n",
       "      <th>3</th>\n",
       "      <td>R</td>\n",
       "      <td>1</td>\n",
       "      <td>1</td>\n",
       "      <td>1</td>\n",
       "      <td>4</td>\n",
       "    </tr>\n",
       "    <tr>\n",
       "      <th>4</th>\n",
       "      <td>R</td>\n",
       "      <td>1</td>\n",
       "      <td>1</td>\n",
       "      <td>1</td>\n",
       "      <td>5</td>\n",
       "    </tr>\n",
       "  </tbody>\n",
       "</table>\n",
       "</div>"
      ],
      "text/plain": [
       "  Class  L-Weight  L-Distance  R-Weight  R-Distance\n",
       "0     B         1           1         1           1\n",
       "1     R         1           1         1           2\n",
       "2     R         1           1         1           3\n",
       "3     R         1           1         1           4\n",
       "4     R         1           1         1           5"
      ]
     },
     "execution_count": 42,
     "metadata": {},
     "output_type": "execute_result"
    }
   ],
   "source": [
    "balance_scale_data = pd.read_csv(\"../input/balance-scale/balance-scale.csv\", header = 0)\n",
    "balance_scale_data.head()"
   ]
  },
  {
   "cell_type": "code",
   "execution_count": 43,
   "id": "357e84c1",
   "metadata": {
    "execution": {
     "iopub.execute_input": "2021-10-19T05:50:44.825417Z",
     "iopub.status.busy": "2021-10-19T05:50:44.820503Z",
     "iopub.status.idle": "2021-10-19T05:50:44.833275Z",
     "shell.execute_reply": "2021-10-19T05:50:44.833987Z",
     "shell.execute_reply.started": "2021-10-08T05:20:19.609278Z"
    },
    "papermill": {
     "duration": 0.075717,
     "end_time": "2021-10-19T05:50:44.834217",
     "exception": false,
     "start_time": "2021-10-19T05:50:44.758500",
     "status": "completed"
    },
    "tags": []
   },
   "outputs": [
    {
     "name": "stdout",
     "output_type": "stream",
     "text": [
      "<class 'pandas.core.frame.DataFrame'>\n",
      "RangeIndex: 625 entries, 0 to 624\n",
      "Data columns (total 5 columns):\n",
      " #   Column      Non-Null Count  Dtype \n",
      "---  ------      --------------  ----- \n",
      " 0   Class       625 non-null    object\n",
      " 1   L-Weight    625 non-null    int64 \n",
      " 2   L-Distance  625 non-null    int64 \n",
      " 3   R-Weight    625 non-null    int64 \n",
      " 4   R-Distance  625 non-null    int64 \n",
      "dtypes: int64(4), object(1)\n",
      "memory usage: 24.5+ KB\n"
     ]
    }
   ],
   "source": [
    "balance_scale_data.info()"
   ]
  },
  {
   "cell_type": "code",
   "execution_count": 44,
   "id": "ac7e04f4",
   "metadata": {
    "execution": {
     "iopub.execute_input": "2021-10-19T05:50:44.959573Z",
     "iopub.status.busy": "2021-10-19T05:50:44.958541Z",
     "iopub.status.idle": "2021-10-19T05:50:44.963982Z",
     "shell.execute_reply": "2021-10-19T05:50:44.964552Z",
     "shell.execute_reply.started": "2021-10-08T05:20:19.626059Z"
    },
    "papermill": {
     "duration": 0.069314,
     "end_time": "2021-10-19T05:50:44.964716",
     "exception": false,
     "start_time": "2021-10-19T05:50:44.895402",
     "status": "completed"
    },
    "tags": []
   },
   "outputs": [
    {
     "name": "stdout",
     "output_type": "stream",
     "text": [
      "['L-Weight', 'L-Distance', 'R-Weight', 'R-Distance']\n"
     ]
    }
   ],
   "source": [
    "features = list(balance_scale_data.columns[1:5])\n",
    "print(features)"
   ]
  },
  {
   "cell_type": "code",
   "execution_count": 45,
   "id": "9fc230bb",
   "metadata": {
    "execution": {
     "iopub.execute_input": "2021-10-19T05:50:45.091995Z",
     "iopub.status.busy": "2021-10-19T05:50:45.091338Z",
     "iopub.status.idle": "2021-10-19T05:50:45.097570Z",
     "shell.execute_reply": "2021-10-19T05:50:45.097010Z",
     "shell.execute_reply.started": "2021-10-08T05:20:19.634399Z"
    },
    "papermill": {
     "duration": 0.071765,
     "end_time": "2021-10-19T05:50:45.097711",
     "exception": false,
     "start_time": "2021-10-19T05:50:45.025946",
     "status": "completed"
    },
    "tags": []
   },
   "outputs": [],
   "source": [
    "balance_scale_data['Class'] = balance_scale_data['Class'].map({\"B\":0, \"L\":1, \"R\": 2})"
   ]
  },
  {
   "cell_type": "code",
   "execution_count": 46,
   "id": "87f97b1f",
   "metadata": {
    "execution": {
     "iopub.execute_input": "2021-10-19T05:50:45.225773Z",
     "iopub.status.busy": "2021-10-19T05:50:45.225036Z",
     "iopub.status.idle": "2021-10-19T05:50:45.428288Z",
     "shell.execute_reply": "2021-10-19T05:50:45.428752Z",
     "shell.execute_reply.started": "2021-10-08T05:20:19.645693Z"
    },
    "papermill": {
     "duration": 0.270456,
     "end_time": "2021-10-19T05:50:45.428973",
     "exception": false,
     "start_time": "2021-10-19T05:50:45.158517",
     "status": "completed"
    },
    "tags": []
   },
   "outputs": [
    {
     "data": {
      "image/png": "[encoded data removed]",
      "text/plain": [
       "<Figure size 432x288 with 1 Axes>"
      ]
     },
     "metadata": {},
     "output_type": "display_data"
    }
   ],
   "source": [
    "sns.set_theme(style=\"darkgrid\")\n",
    "ax = sns.countplot(x=\"Class\", data = balance_scale_data)"
   ]
  },
  {
   "cell_type": "code",
   "execution_count": 47,
   "id": "5d6d32f8",
   "metadata": {
    "execution": {
     "iopub.execute_input": "2021-10-19T05:50:45.554857Z",
     "iopub.status.busy": "2021-10-19T05:50:45.553909Z",
     "iopub.status.idle": "2021-10-19T05:50:45.557535Z",
     "shell.execute_reply": "2021-10-19T05:50:45.558139Z",
     "shell.execute_reply.started": "2021-10-08T05:20:19.865583Z"
    },
    "papermill": {
     "duration": 0.068712,
     "end_time": "2021-10-19T05:50:45.558300",
     "exception": false,
     "start_time": "2021-10-19T05:50:45.489588",
     "status": "completed"
    },
    "tags": []
   },
   "outputs": [],
   "source": [
    "prediction_var = features"
   ]
  },
  {
   "cell_type": "code",
   "execution_count": 48,
   "id": "8e89ddeb",
   "metadata": {
    "execution": {
     "iopub.execute_input": "2021-10-19T05:50:45.682335Z",
     "iopub.status.busy": "2021-10-19T05:50:45.681354Z",
     "iopub.status.idle": "2021-10-19T05:50:45.686427Z",
     "shell.execute_reply": "2021-10-19T05:50:45.687045Z",
     "shell.execute_reply.started": "2021-10-08T05:20:19.871488Z"
    },
    "papermill": {
     "duration": 0.068651,
     "end_time": "2021-10-19T05:50:45.687237",
     "exception": false,
     "start_time": "2021-10-19T05:50:45.618586",
     "status": "completed"
    },
    "tags": []
   },
   "outputs": [],
   "source": [
    "X_balance_scale = balance_scale_data[prediction_var]\n",
    "y_balance_scale = balance_scale_data.Class"
   ]
  },
  {
   "cell_type": "code",
   "execution_count": null,
   "id": "cb00da45",
   "metadata": {
    "papermill": {
     "duration": 0.059688,
     "end_time": "2021-10-19T05:50:45.806816",
     "exception": false,
     "start_time": "2021-10-19T05:50:45.747128",
     "status": "completed"
    },
    "tags": []
   },
   "outputs": [],
   "source": []
  },
  {
   "cell_type": "code",
   "execution_count": 49,
   "id": "81072ae0",
   "metadata": {
    "execution": {
     "iopub.execute_input": "2021-10-19T05:50:45.940397Z",
     "iopub.status.busy": "2021-10-19T05:50:45.939357Z",
     "iopub.status.idle": "2021-10-19T05:50:45.941261Z",
     "shell.execute_reply": "2021-10-19T05:50:45.941903Z",
     "shell.execute_reply.started": "2021-10-08T05:20:19.883871Z"
    },
    "papermill": {
     "duration": 0.07502,
     "end_time": "2021-10-19T05:50:45.942085",
     "exception": false,
     "start_time": "2021-10-19T05:50:45.867065",
     "status": "completed"
    },
    "tags": []
   },
   "outputs": [],
   "source": [
    "def printAccuracy(model, dataset, X, y):\n",
    "    print(\"Dataset: \", dataset)\n",
    "    cv = KFold(n_splits=10, random_state=1, shuffle=True)\n",
    "    scoring = ['accuracy', 'f1_macro']\n",
    "    for score_metric in scoring:\n",
    "        scores = cross_val_score(model, X, y, cv=cv, scoring= score_metric)\n",
    "        print(score_metric, \" %0.3f, standard deviation: %0.3f\" % (scores.mean(), scores.std()), end = \" \")\n",
    "        print(\",mean error rate: %0.3f\" % (1 - scores.mean()))\n",
    "    print()"
   ]
  },
  {
   "cell_type": "markdown",
   "id": "f1defd6b",
   "metadata": {
    "papermill": {
     "duration": 0.060525,
     "end_time": "2021-10-19T05:50:46.063866",
     "exception": false,
     "start_time": "2021-10-19T05:50:46.003341",
     "status": "completed"
    },
    "tags": []
   },
   "source": [
    "## Random Forest"
   ]
  },
  {
   "cell_type": "code",
   "execution_count": 50,
   "id": "cff7c4d7",
   "metadata": {
    "_cell_guid": "4936a3a9-e7fd-81a1-1aec-a267224569d5",
    "execution": {
     "iopub.execute_input": "2021-10-19T05:50:46.193506Z",
     "iopub.status.busy": "2021-10-19T05:50:46.189492Z",
     "iopub.status.idle": "2021-10-19T05:51:16.492976Z",
     "shell.execute_reply": "2021-10-19T05:51:16.493485Z",
     "shell.execute_reply.started": "2021-10-08T05:20:19.896882Z"
    },
    "papermill": {
     "duration": 30.367778,
     "end_time": "2021-10-19T05:51:16.493661",
     "exception": false,
     "start_time": "2021-10-19T05:50:46.125883",
     "status": "completed"
    },
    "tags": []
   },
   "outputs": [
    {
     "name": "stdout",
     "output_type": "stream",
     "text": [
      "Dataset:  breast-w\n",
      "accuracy  0.966, standard deviation: 0.019 ,mean error rate: 0.034\n",
      "f1_macro  0.966, standard deviation: 0.021 ,mean error rate: 0.034\n",
      "\n",
      "Dataset:  iris\n",
      "accuracy  0.940, standard deviation: 0.063 ,mean error rate: 0.060\n",
      "f1_macro  0.937, standard deviation: 0.077 ,mean error rate: 0.063\n",
      "\n",
      "Dataset:  pima-diabetes\n",
      "accuracy  0.760, standard deviation: 0.057 ,mean error rate: 0.240\n",
      "f1_macro  0.721, standard deviation: 0.063 ,mean error rate: 0.279\n",
      "\n",
      "Dataset:  heart\n",
      "accuracy  0.809, standard deviation: 0.100 ,mean error rate: 0.191\n",
      "f1_macro  0.826, standard deviation: 0.093 ,mean error rate: 0.174\n",
      "\n",
      "Dataset:  tic-tac-toe\n",
      "accuracy  0.933, standard deviation: 0.021 ,mean error rate: 0.067\n",
      "f1_macro  0.944, standard deviation: 0.022 ,mean error rate: 0.056\n",
      "\n",
      "Dataset:  acute-inflammations (additional)\n",
      "accuracy  1.000, standard deviation: 0.000 ,mean error rate: 0.000\n",
      "f1_macro  1.000, standard deviation: 0.000 ,mean error rate: 0.000\n",
      "\n",
      "Dataset:  balance-scale (additional)\n",
      "accuracy  0.819, standard deviation: 0.042 ,mean error rate: 0.181\n",
      "f1_macro  0.595, standard deviation: 0.018 ,mean error rate: 0.405\n",
      "\n"
     ]
    }
   ],
   "source": [
    "model = RandomForestClassifier()\n",
    "printAccuracy(model, \"breast-w\", X, y)\n",
    "printAccuracy(model, \"iris\", X_iris, y_iris)\n",
    "printAccuracy(model, \"pima-diabetes\", X_pima_diabetes, y_pima_diabetes)\n",
    "printAccuracy(model, \"heart\", X_heart, y_heart)\n",
    "printAccuracy(model, \"tic-tac-toe\", X_tictactoe, y_tictactoe)\n",
    "printAccuracy(model, \"acute-inflammations (additional)\", X_inflammations, y_inflammations)\n",
    "printAccuracy(model, \"balance-scale (additional)\", X_balance_scale, y_balance_scale)"
   ]
  },
  {
   "cell_type": "markdown",
   "id": "cb1d443d",
   "metadata": {
    "papermill": {
     "duration": 0.064661,
     "end_time": "2021-10-19T05:51:16.624556",
     "exception": false,
     "start_time": "2021-10-19T05:51:16.559895",
     "status": "completed"
    },
    "tags": []
   },
   "source": [
    "## Support Vector Machine"
   ]
  },
  {
   "cell_type": "code",
   "execution_count": 51,
   "id": "7676599c",
   "metadata": {
    "_cell_guid": "74acfdf3-a6c1-e262-eaf5-742c62bf1382",
    "execution": {
     "iopub.execute_input": "2021-10-19T05:51:16.771107Z",
     "iopub.status.busy": "2021-10-19T05:51:16.763058Z",
     "iopub.status.idle": "2021-10-19T05:51:18.628429Z",
     "shell.execute_reply": "2021-10-19T05:51:18.629149Z",
     "shell.execute_reply.started": "2021-10-08T05:20:49.773047Z"
    },
    "papermill": {
     "duration": 1.939449,
     "end_time": "2021-10-19T05:51:18.629384",
     "exception": false,
     "start_time": "2021-10-19T05:51:16.689935",
     "status": "completed"
    },
    "tags": []
   },
   "outputs": [
    {
     "name": "stdout",
     "output_type": "stream",
     "text": [
      "Dataset:  breast-w\n",
      "accuracy  0.972, standard deviation: 0.025 ,mean error rate: 0.028\n",
      "f1_macro  0.969, standard deviation: 0.027 ,mean error rate: 0.031\n",
      "\n",
      "Dataset:  iris\n",
      "accuracy  0.960, standard deviation: 0.033 ,mean error rate: 0.040\n",
      "f1_macro  0.953, standard deviation: 0.040 ,mean error rate: 0.047\n",
      "\n",
      "Dataset:  pima-diabetes\n",
      "accuracy  0.760, standard deviation: 0.039 ,mean error rate: 0.240\n",
      "f1_macro  0.705, standard deviation: 0.058 ,mean error rate: 0.295\n",
      "\n",
      "Dataset:  heart\n",
      "accuracy  0.638, standard deviation: 0.094 ,mean error rate: 0.362\n",
      "f1_macro  0.612, standard deviation: 0.093 ,mean error rate: 0.388\n",
      "\n",
      "Dataset:  tic-tac-toe\n",
      "accuracy  0.894, standard deviation: 0.044 ,mean error rate: 0.106\n",
      "f1_macro  0.872, standard deviation: 0.053 ,mean error rate: 0.128\n",
      "\n",
      "Dataset:  acute-inflammations (additional)\n",
      "accuracy  0.425, standard deviation: 0.120 ,mean error rate: 0.575\n",
      "f1_macro  0.345, standard deviation: 0.130 ,mean error rate: 0.655\n",
      "\n",
      "Dataset:  balance-scale (additional)\n",
      "accuracy  0.903, standard deviation: 0.040 ,mean error rate: 0.097\n",
      "f1_macro  0.626, standard deviation: 0.016 ,mean error rate: 0.374\n",
      "\n"
     ]
    }
   ],
   "source": [
    "model = svm.SVC()\n",
    "printAccuracy(model, \"breast-w\", X, y)\n",
    "printAccuracy(model, \"iris\", X_iris, y_iris)\n",
    "printAccuracy(model, \"pima-diabetes\", X_pima_diabetes, y_pima_diabetes)\n",
    "printAccuracy(model, \"heart\", X_heart, y_heart)\n",
    "printAccuracy(model, \"tic-tac-toe\", X_tictactoe, y_tictactoe)\n",
    "printAccuracy(model, \"acute-inflammations (additional)\", X_inflammations, y_inflammations)\n",
    "printAccuracy(model, \"balance-scale (additional)\", X_balance_scale, y_balance_scale)"
   ]
  },
  {
   "cell_type": "markdown",
   "id": "ceafd85e",
   "metadata": {
    "papermill": {
     "duration": 0.067321,
     "end_time": "2021-10-19T05:51:18.764951",
     "exception": false,
     "start_time": "2021-10-19T05:51:18.697630",
     "status": "completed"
    },
    "tags": []
   },
   "source": [
    "## Decision Tree"
   ]
  },
  {
   "cell_type": "code",
   "execution_count": 52,
   "id": "bacf8219",
   "metadata": {
    "execution": {
     "iopub.execute_input": "2021-10-19T05:51:18.906099Z",
     "iopub.status.busy": "2021-10-19T05:51:18.905417Z",
     "iopub.status.idle": "2021-10-19T05:51:19.670434Z",
     "shell.execute_reply": "2021-10-19T05:51:19.670923Z",
     "shell.execute_reply.started": "2021-10-08T05:20:51.541751Z"
    },
    "papermill": {
     "duration": 0.839323,
     "end_time": "2021-10-19T05:51:19.671104",
     "exception": false,
     "start_time": "2021-10-19T05:51:18.831781",
     "status": "completed"
    },
    "tags": []
   },
   "outputs": [
    {
     "name": "stdout",
     "output_type": "stream",
     "text": [
      "Dataset:  breast-w\n",
      "accuracy  0.944, standard deviation: 0.029 ,mean error rate: 0.056\n",
      "f1_macro  0.939, standard deviation: 0.032 ,mean error rate: 0.061\n",
      "\n",
      "Dataset:  iris\n",
      "accuracy  0.947, standard deviation: 0.065 ,mean error rate: 0.053\n",
      "f1_macro  0.936, standard deviation: 0.069 ,mean error rate: 0.064\n",
      "\n",
      "Dataset:  pima-diabetes\n",
      "accuracy  0.706, standard deviation: 0.070 ,mean error rate: 0.294\n",
      "f1_macro  0.670, standard deviation: 0.061 ,mean error rate: 0.330\n",
      "\n",
      "Dataset:  heart\n",
      "accuracy  0.766, standard deviation: 0.096 ,mean error rate: 0.234\n",
      "f1_macro  0.744, standard deviation: 0.094 ,mean error rate: 0.256\n",
      "\n",
      "Dataset:  tic-tac-toe\n",
      "accuracy  0.870, standard deviation: 0.033 ,mean error rate: 0.130\n",
      "f1_macro  0.856, standard deviation: 0.034 ,mean error rate: 0.144\n",
      "\n",
      "Dataset:  acute-inflammations (additional)\n",
      "accuracy  1.000, standard deviation: 0.000 ,mean error rate: 0.000\n",
      "f1_macro  1.000, standard deviation: 0.000 ,mean error rate: 0.000\n",
      "\n",
      "Dataset:  balance-scale (additional)\n",
      "accuracy  0.773, standard deviation: 0.046 ,mean error rate: 0.227\n",
      "f1_macro  0.573, standard deviation: 0.018 ,mean error rate: 0.427\n",
      "\n"
     ]
    }
   ],
   "source": [
    "model = DecisionTreeClassifier()\n",
    "printAccuracy(model, \"breast-w\", X, y)\n",
    "printAccuracy(model, \"iris\", X_iris, y_iris)\n",
    "printAccuracy(model, \"pima-diabetes\", X_pima_diabetes, y_pima_diabetes)\n",
    "printAccuracy(model, \"heart\", X_heart, y_heart)\n",
    "printAccuracy(model, \"tic-tac-toe\", X_tictactoe, y_tictactoe)\n",
    "printAccuracy(model, \"acute-inflammations (additional)\", X_inflammations, y_inflammations)\n",
    "printAccuracy(model, \"balance-scale (additional)\", X_balance_scale, y_balance_scale)"
   ]
  },
  {
   "cell_type": "code",
   "execution_count": null,
   "id": "a7fca8c3",
   "metadata": {
    "papermill": {
     "duration": 0.068421,
     "end_time": "2021-10-19T05:51:19.808543",
     "exception": false,
     "start_time": "2021-10-19T05:51:19.740122",
     "status": "completed"
    },
    "tags": []
   },
   "outputs": [],
   "source": []
  }
 ],
 "metadata": {
  "kernelspec": {
   "display_name": "Python 3",
   "language": "python",
   "name": "python3"
  },
  "language_info": {
   "codemirror_mode": {
    "name": "ipython",
    "version": 3
   },
   "file_extension": ".py",
   "mimetype": "text/x-python",
   "name": "python",
   "nbconvert_exporter": "python",
   "pygments_lexer": "ipython3",
   "version": "3.7.10"
  },
  "papermill": {
   "default_parameters": {},
   "duration": 52.833195,
   "end_time": "2021-10-19T05:51:21.074578",
   "environment_variables": {},
   "exception": null,
   "input_path": "__notebook__.ipynb",
   "output_path": "__notebook__.ipynb",
   "parameters": {},
   "start_time": "2021-10-19T05:50:28.241383",
   "version": "2.3.3"
  }
 },
 "nbformat": 4,
 "nbformat_minor": 5
}
